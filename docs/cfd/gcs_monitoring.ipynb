{
 "cells": [
  {
   "cell_type": "markdown",
   "id": "6f853927",
   "metadata": {},
   "source": [
    "#  Adjoint Sensitivity Model for Muon Transport and Two-Phase Flow in Porous Media with applications to Subsurface Pollution Monitoring\n",
    "\n",
    "#### Roland Grinis  -  Researcher at MIPT Nuclear Physics Methods lab  -  CTO at GrinisRIT (grinisrit.com)\n",
    "#### Vladimir Palmin - Researcher at MIPT Nuclear Physics Methods lab, JetBrains Research"
   ]
  },
  {
   "cell_type": "markdown",
   "id": "8775ff23",
   "metadata": {},
   "source": [
    "## Two-phase flow in porous media\n",
    "We choose the pressures $p_{\\alpha}$ for the wetting $\\alpha=w$ and non-wetting  $\\alpha=n$ phases as our primary variables. The relationship between fluid saturation levels $S_w + S_n =1$ and the capillary pressure $p_c = p_n - p_w$ reads:\n",
    "$$\n",
    "\\frac{S_w - S_{w,r}}{1- S_{w,r}} = \\left( \\frac{p_c}{p_d} \\right)^{-\\lambda} \\quad \\text{for} \\quad p_d \\leq p_c,\n",
    "$$\n",
    "where the irreducible wetting phase saturation $S_{w,r}$, the exponent $\\lambda$ and the entry pressure level $p_d$ are characteristic of the medium.\n",
    "For relative permeability, we have:\n",
    "$$\n",
    "k_{r,w} = (p_c/p_d)^{-3\\lambda-2},\n",
    "$$\n",
    "$$\n",
    "k_{r,n} = \\left( 1 - (p_c/p_d)^{-\\lambda-2} \\right) \\left(1 - (p_c/p_d)^{-\\lambda} \\right)^2. \n",
    "$$\n",
    "The permeability (diffusion) tensor is diagonal:\n",
    "$$\n",
    "\\boldsymbol{D} = \\kappa \\boldsymbol{1}\n",
    "$$\n",
    "where $\\kappa$ stands for the intrinsic permeability. The mobility coefficients are given by:\n",
    "$$\n",
    "m_{\\alpha} = \\frac{k_{r,\\alpha}}{\\mu_{\\alpha}}\n",
    "$$\n",
    "with $\\mu_{\\alpha}$ denoting the $\\alpha$-phase dynamic viscosity. Gravity $\\boldsymbol{g}$ will be our single external force field:\n",
    "$$\n",
    "\\boldsymbol{w}_{\\alpha} =  \\kappa \\rho_{\\alpha} \\boldsymbol{g}\n",
    "$$\n",
    "provided $\\alpha$-phase densities $\\rho_{\\alpha}$ are constant. Solid phase density $\\rho$ and porosity $\\phi$ are also set to be constant.  Finally, the damping matrix is given by \n",
    "$$\n",
    "\\boldsymbol{N} = -\\phi \\lambda p_d^{\\lambda} p_c^{-\\lambda-1} (1- S_{w,r})\n",
    "\\begin{pmatrix}\n",
    "-1 & 1 \\\\\n",
    "1 & -1\n",
    "\\end{pmatrix}\n",
    "$$\n",
    "\n",
    "Introduce the velocity:\n",
    "$$\n",
    "\\boldsymbol{v}_i = - \\sum_{j=1}^{n} \\boldsymbol{D}_{ij} \\nabla_x Z_j +  \\boldsymbol{w}_i\n",
    "$$\n",
    "\n",
    "Multiplying by the mobility coefficients $\\boldsymbol{m}$, we obtain the conservative flux:\n",
    "$$\n",
    "\\boldsymbol{q}_i = m_i\\boldsymbol{v}_i \n",
    "$$\n",
    "\n",
    "The main system governing the evolution is given by the mass balance equations:\n",
    "$$\n",
    "\\sum_{j=1}^{n}N_{ij} \\partial_t Z_j + \\nabla_x \\cdot \\boldsymbol{q}_i = 0\n",
    "$$\n",
    "\n",
    "Moreover we have:\n",
    "* $\\boldsymbol{Z}(0,x; \\theta) = \\boldsymbol{Z}^{\\mathcal{I}}(x; \\theta)$, $\\forall x \\in \\varOmega$ (initial conditions)\n",
    "* $Z_i(t,x; \\theta) = Z_i^{\\mathcal{D}}(t,x;\\theta)$, $\\forall x \\in \\varGamma_{Z_i} \\subset \\partial\\varOmega$ (Dirichlet boundary conditions)\n",
    "* $\\boldsymbol{q}_i \\cdot \\boldsymbol{n} = q_i^{\\mathcal{N}}(\\theta)$, $\\forall x \\in \\varGamma_{\\boldsymbol{q}_i} \\subset \\partial\\varOmega$ with $\\boldsymbol{n}$ outward unit normal to $\\partial\\varOmega$ (Neumann boundary conditions)\n",
    "\n",
    "The function $\\boldsymbol{Z}$ is required to be continuously differentiable in time and only continuous in space. It satisfies the evolution equations in the weak sense.\n"
   ]
  }
 ],
 "metadata": {
  "kernelspec": {
   "display_name": "Python 3 (ipykernel)",
   "language": "python",
   "name": "python3"
  },
  "language_info": {
   "codemirror_mode": {
    "name": "ipython",
    "version": 3
   },
   "file_extension": ".py",
   "mimetype": "text/x-python",
   "name": "python",
   "nbconvert_exporter": "python",
   "pygments_lexer": "ipython3",
   "version": "3.9.7"
  }
 },
 "nbformat": 4,
 "nbformat_minor": 5
}
