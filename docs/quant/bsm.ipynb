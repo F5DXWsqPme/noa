{
 "cells": [
  {
   "cell_type": "markdown",
   "id": "b421a93d",
   "metadata": {},
   "source": [
    "# Introduction: the BSM model\n",
    "\n",
    "#### Roland Grinis  -  Researcher at MIPT Nuclear Physics Methods lab  -  CTO at GrinisRIT (grinisrit.com)"
   ]
  },
  {
   "cell_type": "markdown",
   "id": "b34f864a",
   "metadata": {},
   "source": [
    "## Introduction"
   ]
  },
  {
   "cell_type": "markdown",
   "id": "d388502a",
   "metadata": {},
   "source": [
    "## References\n",
    "\n",
    "* Seydel, R.U. *Tools for Computational Finance*, 6th edition, Springer V., London (2017)\n",
    "* Shreve, S.E. Stochastic Calculus for Finance I & II, Springer, New York (2004)\n",
    "* Grzelak, L.A. et al. *Mathematical Modeling and Computation in Finance: With Exercises and Python and MATLAB Computer Codes*, World Scientific Pub. (2019)"
   ]
  }
 ],
 "metadata": {
  "kernelspec": {
   "display_name": "Python 3 (ipykernel)",
   "language": "python",
   "name": "python3"
  },
  "language_info": {
   "codemirror_mode": {
    "name": "ipython",
    "version": 3
   },
   "file_extension": ".py",
   "mimetype": "text/x-python",
   "name": "python",
   "nbconvert_exporter": "python",
   "pygments_lexer": "ipython3",
   "version": "3.9.7"
  }
 },
 "nbformat": 4,
 "nbformat_minor": 5
}
