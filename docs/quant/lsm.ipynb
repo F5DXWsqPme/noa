{
 "cells": [
  {
   "cell_type": "markdown",
   "id": "d955ef99",
   "metadata": {},
   "source": [
    "# Differentiable LSM algorithm\n",
    "#### Roland Grinis  -  Researcher at MIPT Nuclear Physics Methods lab  -  CTO at GrinisRIT (grinisrit.com)"
   ]
  },
  {
   "cell_type": "markdown",
   "id": "3f65d911",
   "metadata": {},
   "source": [
    "## References\n",
    "\n",
    "* Andersen, L. BG. *Efficient simulation of the Heston stochastic volatility model.* Available at SSRN 946405 (2007)\n",
    "* Longstaff, F. and Schwartz, E. *Valuing American options by simulation: a simple least-squares approach*, Review of Financial Studies, 14 (2001)\n",
    "* Grzelak, L.A. et al. *Mathematical Modeling and Computation in Finance: With Exercises and Python and MATLAB Computer Codes*, World Scientific Pub. (2019)"
   ]
  }
 ],
 "metadata": {
  "kernelspec": {
   "display_name": "Python 3 (ipykernel)",
   "language": "python",
   "name": "python3"
  },
  "language_info": {
   "codemirror_mode": {
    "name": "ipython",
    "version": 3
   },
   "file_extension": ".py",
   "mimetype": "text/x-python",
   "name": "python",
   "nbconvert_exporter": "python",
   "pygments_lexer": "ipython3",
   "version": "3.9.7"
  }
 },
 "nbformat": 4,
 "nbformat_minor": 5
}
