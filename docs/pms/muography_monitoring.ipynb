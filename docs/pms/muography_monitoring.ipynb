{
 "cells": [
  {
   "cell_type": "markdown",
   "id": "6f853927",
   "metadata": {},
   "source": [
    "#  Differentiable Model for Muon Transport and Two-Phase Fluid Flow in Porous Media with applications to Subsurface Pollution Monitoring\n",
    "\n",
    "#### Roland Grinis  -  Researcher at MIPT Nuclear Physics Methods lab  -  CTO at GrinisRIT (grinisrit.com)\n",
    "#### Vladimir Palmin - Researcher at MIPT Nuclear Physics Methods lab \n",
    "#### Danila Riazanov - Student at MIPT,  JetBrains Research trainee"
   ]
  },
  {
   "cell_type": "markdown",
   "id": "cfded0ff",
   "metadata": {},
   "source": [
    "### 1. Introduction\n",
    "\n",
    "Various industrial processes, such as hydraulic fracturing or $\\text{CO}_2$ sequestration in geological formations, could present a risk of groundwater contamination. Non-aqueous phase liquids including chlorinated hydrocarbons, oil, supercritical $\\text{CO}_2$ etc. have low solubility in water. Their migration due to external forces must be thoroughly monitored in order to avoid long-time pollution of drinking water in the subsurface.\n",
    "* J. Rutqvist, *The geomechanics of CO2 storage in deep sedimentary formations.* Geotechnical and Geological Engineering, 30(3) (2012)\n",
    "* J.G. Wang et al., *A simple approach for the estimation of CO2 penetration depth into a caprock layer.* J. Rock Mech. Geotechn.Eng., 8 (1) (2016)\n",
    "* R. Fučík et al., *Mixed-hybrid finite element method for modelling two-phase flow in porous media.* Journal of Math-for-Industry 3, no. 2 (2011)\n",
    "\n",
    "The use of atmospheric muons to monitor underground fluid saturation levels has been studied before.\n",
    "* F. Hivert et al., *Muography sensitivity to hydrogeological rock density perturbation: roles of the absorption and scattering on the muon flux measurement reliability.* Near Surf. Geophys., 15(2):121 (2017)\n",
    "* J. Klinger et al., *Simulation of muon radiography for monitoring CO2 stored in a geological reservoir.* Int. J. Greenhouse Gas Control, 42:644 (2015)\n",
    "\n",
    "However, the low-contrast and possibly noisy muon flux measurements require accurate and realistic modelling of the main physical processes as well as first order sensitivity information for the parameters we solve the inverse problem for.\n",
    "* C. J. Benton et al. *Optimizing geophysical muon radiography using information theory.* Geophysical Journal International 220.2 (2020)\n",
    "\n",
    "We address those issues in our setup by incorporating a differentiable programming paradigm into the implementation of the detailed physics simulations. \n",
    "\n",
    "In section 2, we describe a model for the two-phase flow in heterogeneuous porous media for which we rely on the mixed-hybrid ﬁnite element (MHFE) method with degenerate capillary diffusion from:\n",
    "* R. Fučík et al. *Multidimensional mixed–hybrid finite element method for compositional two-phase flow in heterogeneous porous media and its parallel implementation on GPU.* Computer Physics Communications 238 (2019)\n",
    "\n",
    "We present there a novel adjoint sensitivity algorithm for MHFE.\n",
    "\n",
    "In section 3, where we discuss muon transport building upon the Backward Monte-Carlo (BMC) scheme developed by:\n",
    "* V. Niess et al., *Backward Monte-Carlo applied to muon transport*, Comput. Phys. Comm.   (2018)\n",
    "\n",
    "We re-use the spatial discretisation from MHFE and perform sensitivities computations with respect to the media density and saturation levels following:\n",
    "* R. Grinis, *Differentiable programming for particle physics simulations.* preprint arXiv:2108.10245 to appear in JETP (2021)\n",
    "\n",
    "Finally in section 4, we put everything together to design a system for detecting  $\\text{CO}_2$ leakage through the caprock layer in geological carbon storage sites. \n"
   ]
  },
  {
   "cell_type": "markdown",
   "id": "d23742d8",
   "metadata": {},
   "source": [
    "### 2. Adjoint sensitivity model for two-phase flow"
   ]
  },
  {
   "cell_type": "markdown",
   "id": "8e88902d",
   "metadata": {},
   "source": [
    "### 3. Sensitivity analysis for muon transport "
   ]
  },
  {
   "cell_type": "markdown",
   "id": "5ee8f040",
   "metadata": {},
   "source": [
    "### 4. Leakage monitoring in Geological Carbon Storage "
   ]
  }
 ],
 "metadata": {
  "kernelspec": {
   "display_name": "Python 3 (ipykernel)",
   "language": "python",
   "name": "python3"
  },
  "language_info": {
   "codemirror_mode": {
    "name": "ipython",
    "version": 3
   },
   "file_extension": ".py",
   "mimetype": "text/x-python",
   "name": "python",
   "nbconvert_exporter": "python",
   "pygments_lexer": "ipython3",
   "version": "3.9.7"
  }
 },
 "nbformat": 4,
 "nbformat_minor": 5
}
