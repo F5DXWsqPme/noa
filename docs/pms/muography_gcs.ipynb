{
 "cells": [
  {
   "cell_type": "markdown",
   "id": "6f853927",
   "metadata": {},
   "source": [
    "#  Sensitivity Analysis for Geological Carbon Storage Modelling and Muography Monitoring\n",
    "\n",
    "#### Roland Grinis  -  Researcher at MIPT Nuclear Physics Methods lab  -  CTO at GrinisRIT (grinisrit.com)\n",
    "#### Vladimir Palmin - Researcher at MIPT Nuclear Physics Methods lab \n",
    "#### Danila Riazanov - Student at MIPT,  JetBrains Research trainee"
   ]
  },
  {
   "cell_type": "markdown",
   "id": "cfded0ff",
   "metadata": {},
   "source": [
    "### Introduction\n",
    "\n",
    "Complementary material for preprint. "
   ]
  },
  {
   "cell_type": "markdown",
   "id": "d23742d8",
   "metadata": {},
   "source": [
    "### CO2 plume evolution model"
   ]
  }
 ],
 "metadata": {
  "kernelspec": {
   "display_name": "Python 3 (ipykernel)",
   "language": "python",
   "name": "python3"
  },
  "language_info": {
   "codemirror_mode": {
    "name": "ipython",
    "version": 3
   },
   "file_extension": ".py",
   "mimetype": "text/x-python",
   "name": "python",
   "nbconvert_exporter": "python",
   "pygments_lexer": "ipython3",
   "version": "3.9.7"
  }
 },
 "nbformat": 4,
 "nbformat_minor": 5
}
