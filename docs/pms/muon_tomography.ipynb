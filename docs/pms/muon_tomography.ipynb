{
 "cells": [
  {
   "cell_type": "markdown",
   "id": "9126fa92",
   "metadata": {},
   "source": [
    "#  First order techniques for muon tomography\n",
    "#### Roland Grinis  -  Researcher at MIPT Nuclear Physics Methods lab  -  CTO at GrinisRIT (grinisrit.com)"
   ]
  },
  {
   "cell_type": "markdown",
   "id": "5be5c097",
   "metadata": {},
   "source": [
    "## Introduction\n",
    "\n",
    "We develop a computational framework for muography \n",
    "where one can easily incorporate domain knowledge \n",
    "(e.g. data from gravimetry), \n",
    "quantify uncertainty in a hypothesis about \n",
    "the value of the model parameters, \n",
    "update the scientific hypothesis as new data is available, \n",
    "and perform inference in a situation where the amount of data \n",
    "is small compared to the complexity of the physical model \n",
    "or the measurements are very noisy."
   ]
  },
  {
   "cell_type": "markdown",
   "id": "92501fb4",
   "metadata": {},
   "source": [
    "## Differentiable Backward Monte-Carlo\n",
    "\n",
    "The MC state is given by kinetic energy, position and direction: \n",
    "$$\n",
    "\\textbf{s} = \\{ \\epsilon, \\textbf{r},  \\textbf{u}\\}\n",
    "$$\n",
    "\n",
    "Atomic cross-sections do not depend on the medium density."
   ]
  },
  {
   "cell_type": "markdown",
   "id": "f382454e",
   "metadata": {},
   "source": [
    "References:\n",
    "* V. Niess et al., *Backward Monte-Carlo applied to muon transport*, Comput. Phys. Comm. (2018)\n",
    "* R. Grinis, *Differentiable programming for particle physics simulations*, JETP, 161(2) (2022)"
   ]
  }
 ],
 "metadata": {
  "kernelspec": {
   "display_name": "Python 3 (ipykernel)",
   "language": "python",
   "name": "python3"
  },
  "language_info": {
   "codemirror_mode": {
    "name": "ipython",
    "version": 3
   },
   "file_extension": ".py",
   "mimetype": "text/x-python",
   "name": "python",
   "nbconvert_exporter": "python",
   "pygments_lexer": "ipython3",
   "version": "3.9.7"
  }
 },
 "nbformat": 4,
 "nbformat_minor": 5
}
